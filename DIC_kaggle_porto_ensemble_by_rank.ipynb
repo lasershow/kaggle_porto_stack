{
 "cells": [
  {
   "cell_type": "code",
   "execution_count": 136,
   "metadata": {},
   "outputs": [],
   "source": [
    "import os\n",
    "import pandas as pd \n",
    "\n",
    "\n",
    "submissions_path = \"./input\"\n",
    "all_files = os.listdir(submissions_path)\n",
    "\n",
    "outs = [pd.read_csv(os.path.join(submissions_path, f), index_col=0)\\\n",
    "        for f in all_files]\n",
    "\n",
    "if outs[0].index.isnull().any():\n",
    "    outs = outs[1:]\n",
    "    \n",
    "outs_name = [ f.split('.')[0] for f in all_files]\n",
    "if \"\" in outs_name:\n",
    "    outs_name.remove(\"\")"
   ]
  },
  {
   "cell_type": "code",
   "execution_count": null,
   "metadata": {},
   "outputs": [],
   "source": []
  },
  {
   "cell_type": "code",
   "execution_count": 137,
   "metadata": {},
   "outputs": [
    {
     "data": {
      "text/plain": [
       "['gpari', 'rgf_submit', 'XGBoost CV_284_XGB']"
      ]
     },
     "execution_count": 137,
     "metadata": {},
     "output_type": "execute_result"
    }
   ],
   "source": [
    "concat_df = pd.concat(outs, axis=1)\n",
    "cols = outs_name\n",
    "concat_df.columns = cols\n",
    "cols"
   ]
  },
  {
   "cell_type": "code",
   "execution_count": null,
   "metadata": {},
   "outputs": [],
   "source": []
  },
  {
   "cell_type": "code",
   "execution_count": 138,
   "metadata": {},
   "outputs": [
    {
     "data": {
      "image/png": "[encoded data removed]",
      "text/plain": [
       "<matplotlib.figure.Figure at 0x10b629748>"
      ]
     },
     "metadata": {},
     "output_type": "display_data"
    }
   ],
   "source": [
    "from matplotlib import pyplot as plt\n",
    "import seaborn as sns\n",
    "sns.heatmap(concat_df.corr(),cmap=\"Reds\")\n",
    "plt.show()"
   ]
  },
  {
   "cell_type": "code",
   "execution_count": 139,
   "metadata": {},
   "outputs": [],
   "source": [
    "concat_df[\"target\"] = (concat_df.rank() / concat_df.shape[0]).mean(axis=1)\n",
    "concat_df.drop(cols, axis=1, inplace=True)\n",
    "\n",
    "# Write the output\n",
    "concat_df.to_csv(\"./all_stacked_by_rank.csv\")"
   ]
  },
  {
   "cell_type": "code",
   "execution_count": null,
   "metadata": {},
   "outputs": [],
   "source": [
    "\n",
    "\n"
   ]
  },
  {
   "cell_type": "code",
   "execution_count": null,
   "metadata": {
    "collapsed": true
   },
   "outputs": [],
   "source": []
  }
 ],
 "metadata": {
  "kernelspec": {
   "display_name": "Python 3",
   "language": "python",
   "name": "python3"
  },
  "language_info": {
   "codemirror_mode": {
    "name": "ipython",
    "version": 3
   },
   "file_extension": ".py",
   "mimetype": "text/x-python",
   "name": "python",
   "nbconvert_exporter": "python",
   "pygments_lexer": "ipython3",
   "version": "3.6.0"
  }
 },
 "nbformat": 4,
 "nbformat_minor": 2
}
